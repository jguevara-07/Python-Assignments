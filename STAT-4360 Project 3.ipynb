{
 "cells": [
  {
   "cell_type": "markdown",
   "id": "7458dbda-83e0-4c34-9d6b-0331054adbd7",
   "metadata": {},
   "source": [
    "# Multicollinearity Analysis, Regularization Techniques, and Spline Modeling in Regression Analysis"
   ]
  },
  {
   "cell_type": "code",
   "execution_count": 1,
   "id": "98a5c587-3ff1-4bcc-af0f-e69d1b57d2c3",
   "metadata": {
    "tags": []
   },
   "outputs": [],
   "source": [
    "# importing necessary packages\n",
    "import pandas as pd\n",
    "import numpy as np\n",
    "\n",
    "import statsmodels.api as sm\n",
    "import matplotlib.pyplot as plt  \n",
    "import seaborn as sns  \n",
    "from scipy import stats  \n",
    "from statsmodels.stats.diagnostic import het_breuschpagan  \n",
    "import statsmodels.api as sm  \n",
    "from statsmodels.formula.api import ols \n",
    "from pandas.plotting import scatter_matrix  \n",
    "from mpl_toolkits.mplot3d import Axes3D  \n",
    "from scipy import stats  \n",
    "from scipy.stats import t, f \n",
    "from matplotlib.patches import Ellipse \n",
    "import statsmodels.stats.diagnostic as diagnostic  \n",
    "from statsmodels.stats.stattools import durbin_watson  \n",
    "from statsmodels.graphics.regressionplots import influence_plot \n",
    "from statsmodels.tools import add_constant\n",
    "from statsmodels.stats.outliers_influence import variance_inflation_factor\n",
    "\n",
    "from sklearn.linear_model import LinearRegression \n",
    "from mlxtend.feature_selection import SequentialFeatureSelector as SFS\n",
    "import itertools  \n",
    "from collections import OrderedDict  \n",
    "from sklearn.metrics import mean_squared_error\n",
    "\n",
    "from sklearn.preprocessing import StandardScaler\n",
    "from sklearn.decomposition import PCA"
   ]
  },
  {
   "cell_type": "markdown",
   "id": "bb988974-46e0-4c84-8086-ed3f9130eebb",
   "metadata": {},
   "source": [
    "## Loading and Exploring Dataset"
   ]
  },
  {
   "cell_type": "code",
   "execution_count": 2,
   "id": "87638d5e-90f0-4d0f-98ec-fd409a18e664",
   "metadata": {
    "tags": []
   },
   "outputs": [
    {
     "data": {
      "text/html": [
       "<div>\n",
       "<style scoped>\n",
       "    .dataframe tbody tr th:only-of-type {\n",
       "        vertical-align: middle;\n",
       "    }\n",
       "\n",
       "    .dataframe tbody tr th {\n",
       "        vertical-align: top;\n",
       "    }\n",
       "\n",
       "    .dataframe thead th {\n",
       "        text-align: right;\n",
       "    }\n",
       "</style>\n",
       "<table border=\"1\" class=\"dataframe\">\n",
       "  <thead>\n",
       "    <tr style=\"text-align: right;\">\n",
       "      <th></th>\n",
       "      <th>Market_Demand_Index</th>\n",
       "      <th>Consumer_Interest_Index</th>\n",
       "      <th>Distribution_Coverage_Rate</th>\n",
       "      <th>Competitor_Price_Index</th>\n",
       "      <th>Sales_Revenue</th>\n",
       "    </tr>\n",
       "  </thead>\n",
       "  <tbody>\n",
       "    <tr>\n",
       "      <th>0</th>\n",
       "      <td>54.967142</td>\n",
       "      <td>50.186002</td>\n",
       "      <td>40.784858</td>\n",
       "      <td>33.784943</td>\n",
       "      <td>400.484056</td>\n",
       "    </tr>\n",
       "    <tr>\n",
       "      <th>1</th>\n",
       "      <td>48.617357</td>\n",
       "      <td>44.877190</td>\n",
       "      <td>37.695136</td>\n",
       "      <td>25.389173</td>\n",
       "      <td>357.715009</td>\n",
       "    </tr>\n",
       "    <tr>\n",
       "      <th>2</th>\n",
       "      <td>56.476885</td>\n",
       "      <td>52.995299</td>\n",
       "      <td>45.191996</td>\n",
       "      <td>34.348030</td>\n",
       "      <td>413.850071</td>\n",
       "    </tr>\n",
       "    <tr>\n",
       "      <th>3</th>\n",
       "      <td>65.230299</td>\n",
       "      <td>60.814873</td>\n",
       "      <td>52.278200</td>\n",
       "      <td>36.778189</td>\n",
       "      <td>456.482032</td>\n",
       "    </tr>\n",
       "    <tr>\n",
       "      <th>4</th>\n",
       "      <td>47.658466</td>\n",
       "      <td>40.137281</td>\n",
       "      <td>37.226642</td>\n",
       "      <td>32.067175</td>\n",
       "      <td>373.337463</td>\n",
       "    </tr>\n",
       "  </tbody>\n",
       "</table>\n",
       "</div>"
      ],
      "text/plain": [
       "   Market_Demand_Index  Consumer_Interest_Index  Distribution_Coverage_Rate  \\\n",
       "0            54.967142                50.186002                   40.784858   \n",
       "1            48.617357                44.877190                   37.695136   \n",
       "2            56.476885                52.995299                   45.191996   \n",
       "3            65.230299                60.814873                   52.278200   \n",
       "4            47.658466                40.137281                   37.226642   \n",
       "\n",
       "   Competitor_Price_Index  Sales_Revenue  \n",
       "0               33.784943     400.484056  \n",
       "1               25.389173     357.715009  \n",
       "2               34.348030     413.850071  \n",
       "3               36.778189     456.482032  \n",
       "4               32.067175     373.337463  "
      ]
     },
     "execution_count": 2,
     "metadata": {},
     "output_type": "execute_result"
    }
   ],
   "source": [
    "data = pd.read_csv(\"../STAT4360/multicollinearity_data.csv\")\n",
    "data.head()"
   ]
  },
  {
   "cell_type": "code",
   "execution_count": 3,
   "id": "bd3c2dda-53dd-422b-b8f5-8fd60e42b749",
   "metadata": {
    "tags": []
   },
   "outputs": [
    {
     "name": "stdout",
     "output_type": "stream",
     "text": [
      "<class 'pandas.core.frame.DataFrame'>\n",
      "RangeIndex: 200 entries, 0 to 199\n",
      "Data columns (total 5 columns):\n",
      " #   Column                      Non-Null Count  Dtype  \n",
      "---  ------                      --------------  -----  \n",
      " 0   Market_Demand_Index         200 non-null    float64\n",
      " 1   Consumer_Interest_Index     200 non-null    float64\n",
      " 2   Distribution_Coverage_Rate  200 non-null    float64\n",
      " 3   Competitor_Price_Index      200 non-null    float64\n",
      " 4   Sales_Revenue               200 non-null    float64\n",
      "dtypes: float64(5)\n",
      "memory usage: 7.9 KB\n"
     ]
    },
    {
     "data": {
      "text/html": [
       "<div>\n",
       "<style scoped>\n",
       "    .dataframe tbody tr th:only-of-type {\n",
       "        vertical-align: middle;\n",
       "    }\n",
       "\n",
       "    .dataframe tbody tr th {\n",
       "        vertical-align: top;\n",
       "    }\n",
       "\n",
       "    .dataframe thead th {\n",
       "        text-align: right;\n",
       "    }\n",
       "</style>\n",
       "<table border=\"1\" class=\"dataframe\">\n",
       "  <thead>\n",
       "    <tr style=\"text-align: right;\">\n",
       "      <th></th>\n",
       "      <th>Market_Demand_Index</th>\n",
       "      <th>Consumer_Interest_Index</th>\n",
       "      <th>Distribution_Coverage_Rate</th>\n",
       "      <th>Competitor_Price_Index</th>\n",
       "      <th>Sales_Revenue</th>\n",
       "    </tr>\n",
       "  </thead>\n",
       "  <tbody>\n",
       "    <tr>\n",
       "      <th>count</th>\n",
       "      <td>200.000000</td>\n",
       "      <td>200.000000</td>\n",
       "      <td>200.000000</td>\n",
       "      <td>200.000000</td>\n",
       "      <td>200.000000</td>\n",
       "    </tr>\n",
       "    <tr>\n",
       "      <th>mean</th>\n",
       "      <td>49.592290</td>\n",
       "      <td>44.804798</td>\n",
       "      <td>39.502522</td>\n",
       "      <td>30.044833</td>\n",
       "      <td>378.721057</td>\n",
       "    </tr>\n",
       "    <tr>\n",
       "      <th>std</th>\n",
       "      <td>9.310039</td>\n",
       "      <td>8.789337</td>\n",
       "      <td>7.446573</td>\n",
       "      <td>5.097872</td>\n",
       "      <td>45.137832</td>\n",
       "    </tr>\n",
       "    <tr>\n",
       "      <th>min</th>\n",
       "      <td>23.802549</td>\n",
       "      <td>19.459277</td>\n",
       "      <td>21.562436</td>\n",
       "      <td>16.515567</td>\n",
       "      <td>264.104438</td>\n",
       "    </tr>\n",
       "    <tr>\n",
       "      <th>25%</th>\n",
       "      <td>42.948723</td>\n",
       "      <td>38.669992</td>\n",
       "      <td>34.117948</td>\n",
       "      <td>26.467654</td>\n",
       "      <td>345.157062</td>\n",
       "    </tr>\n",
       "    <tr>\n",
       "      <th>50%</th>\n",
       "      <td>49.958081</td>\n",
       "      <td>45.552636</td>\n",
       "      <td>39.798398</td>\n",
       "      <td>30.111312</td>\n",
       "      <td>379.170377</td>\n",
       "    </tr>\n",
       "    <tr>\n",
       "      <th>75%</th>\n",
       "      <td>55.008525</td>\n",
       "      <td>50.006972</td>\n",
       "      <td>44.364578</td>\n",
       "      <td>33.425886</td>\n",
       "      <td>407.177907</td>\n",
       "    </tr>\n",
       "    <tr>\n",
       "      <th>max</th>\n",
       "      <td>77.201692</td>\n",
       "      <td>68.796198</td>\n",
       "      <td>64.048861</td>\n",
       "      <td>43.161910</td>\n",
       "      <td>530.555643</td>\n",
       "    </tr>\n",
       "  </tbody>\n",
       "</table>\n",
       "</div>"
      ],
      "text/plain": [
       "       Market_Demand_Index  Consumer_Interest_Index  \\\n",
       "count           200.000000               200.000000   \n",
       "mean             49.592290                44.804798   \n",
       "std               9.310039                 8.789337   \n",
       "min              23.802549                19.459277   \n",
       "25%              42.948723                38.669992   \n",
       "50%              49.958081                45.552636   \n",
       "75%              55.008525                50.006972   \n",
       "max              77.201692                68.796198   \n",
       "\n",
       "       Distribution_Coverage_Rate  Competitor_Price_Index  Sales_Revenue  \n",
       "count                  200.000000              200.000000     200.000000  \n",
       "mean                    39.502522               30.044833     378.721057  \n",
       "std                      7.446573                5.097872      45.137832  \n",
       "min                     21.562436               16.515567     264.104438  \n",
       "25%                     34.117948               26.467654     345.157062  \n",
       "50%                     39.798398               30.111312     379.170377  \n",
       "75%                     44.364578               33.425886     407.177907  \n",
       "max                     64.048861               43.161910     530.555643  "
      ]
     },
     "execution_count": 3,
     "metadata": {},
     "output_type": "execute_result"
    }
   ],
   "source": [
    "# look at data information\n",
    "data.info()\n",
    "data.describe()"
   ]
  },
  {
   "cell_type": "code",
   "execution_count": 4,
   "id": "22dc5132-d4a5-40db-9901-a6b3e74f20a5",
   "metadata": {
    "tags": []
   },
   "outputs": [
    {
     "data": {
      "text/html": [
       "<div>\n",
       "<style scoped>\n",
       "    .dataframe tbody tr th:only-of-type {\n",
       "        vertical-align: middle;\n",
       "    }\n",
       "\n",
       "    .dataframe tbody tr th {\n",
       "        vertical-align: top;\n",
       "    }\n",
       "\n",
       "    .dataframe thead th {\n",
       "        text-align: right;\n",
       "    }\n",
       "</style>\n",
       "<table border=\"1\" class=\"dataframe\">\n",
       "  <thead>\n",
       "    <tr style=\"text-align: right;\">\n",
       "      <th></th>\n",
       "      <th>X1</th>\n",
       "      <th>X2</th>\n",
       "      <th>X3</th>\n",
       "      <th>X4</th>\n",
       "      <th>y</th>\n",
       "    </tr>\n",
       "  </thead>\n",
       "  <tbody>\n",
       "    <tr>\n",
       "      <th>0</th>\n",
       "      <td>54.967142</td>\n",
       "      <td>50.186002</td>\n",
       "      <td>40.784858</td>\n",
       "      <td>33.784943</td>\n",
       "      <td>400.484056</td>\n",
       "    </tr>\n",
       "    <tr>\n",
       "      <th>1</th>\n",
       "      <td>48.617357</td>\n",
       "      <td>44.877190</td>\n",
       "      <td>37.695136</td>\n",
       "      <td>25.389173</td>\n",
       "      <td>357.715009</td>\n",
       "    </tr>\n",
       "    <tr>\n",
       "      <th>2</th>\n",
       "      <td>56.476885</td>\n",
       "      <td>52.995299</td>\n",
       "      <td>45.191996</td>\n",
       "      <td>34.348030</td>\n",
       "      <td>413.850071</td>\n",
       "    </tr>\n",
       "    <tr>\n",
       "      <th>3</th>\n",
       "      <td>65.230299</td>\n",
       "      <td>60.814873</td>\n",
       "      <td>52.278200</td>\n",
       "      <td>36.778189</td>\n",
       "      <td>456.482032</td>\n",
       "    </tr>\n",
       "    <tr>\n",
       "      <th>4</th>\n",
       "      <td>47.658466</td>\n",
       "      <td>40.137281</td>\n",
       "      <td>37.226642</td>\n",
       "      <td>32.067175</td>\n",
       "      <td>373.337463</td>\n",
       "    </tr>\n",
       "  </tbody>\n",
       "</table>\n",
       "</div>"
      ],
      "text/plain": [
       "          X1         X2         X3         X4           y\n",
       "0  54.967142  50.186002  40.784858  33.784943  400.484056\n",
       "1  48.617357  44.877190  37.695136  25.389173  357.715009\n",
       "2  56.476885  52.995299  45.191996  34.348030  413.850071\n",
       "3  65.230299  60.814873  52.278200  36.778189  456.482032\n",
       "4  47.658466  40.137281  37.226642  32.067175  373.337463"
      ]
     },
     "execution_count": 4,
     "metadata": {},
     "output_type": "execute_result"
    }
   ],
   "source": [
    "# Renaming columns for easier usage\n",
    "data_1 = data.rename(columns={\n",
    "    'Market_Demand_Index': 'X1', \n",
    "    \"Consumer_Interest_Index\": \"X2\", \n",
    "    \"Distribution_Coverage_Rate\": \"X3\", \n",
    "    \"Competitor_Price_Index\": \"X4\", \n",
    "    \"Sales_Revenue\": \"y\"})\n",
    "data_1.head()"
   ]
  },
  {
   "cell_type": "markdown",
   "id": "136b10a2-d5dc-4aec-b5be-a6b50f551319",
   "metadata": {},
   "source": [
    "## Exploratory Data Analysis"
   ]
  },
  {
   "cell_type": "code",
   "execution_count": 5,
   "id": "47944953-b70e-44ec-8daa-09e7aa2ac442",
   "metadata": {
    "tags": []
   },
   "outputs": [
    {
     "name": "stdout",
     "output_type": "stream",
     "text": [
      "          X1        X2        X3        X4         y\n",
      "X1  1.000000  0.974687  0.964368  0.065398  0.948515\n",
      "X2  0.974687  1.000000  0.938767  0.039572  0.894905\n",
      "X3  0.964368  0.938767  1.000000  0.093699  0.967219\n",
      "X4  0.065398  0.039572  0.093699  1.000000  0.279625\n",
      "y   0.948515  0.894905  0.967219  0.279625  1.000000\n"
     ]
    },
    {
     "data": {
      "image/png": "[encoded data removed]",
      "text/plain": [
       "<Figure size 640x480 with 2 Axes>"
      ]
     },
     "metadata": {},
     "output_type": "display_data"
    }
   ],
   "source": [
    "# correlation matrix\n",
    "correlation_matrix = data_1.corr()\n",
    "\n",
    "print(correlation_matrix)\n",
    "\n",
    "sns.heatmap(correlation_matrix, annot=True, cmap='Blues')\n",
    "plt.show()"
   ]
  },
  {
   "cell_type": "markdown",
   "id": "43092e13-af07-4e3e-b247-a98c8ffe8b99",
   "metadata": {},
   "source": [
    "*Variables X1, X2, X3 all have high correlations. The only variable that is not correlated with the other variables is X4.*"
   ]
  },
  {
   "cell_type": "markdown",
   "id": "10782b3c-ac0b-400c-86b4-0040306c578f",
   "metadata": {},
   "source": [
    "## Fitting Regression model"
   ]
  },
  {
   "cell_type": "code",
   "execution_count": 6,
   "id": "3e52fc25-09e4-48ef-bdbc-a43a5e64fafe",
   "metadata": {
    "tags": []
   },
   "outputs": [
    {
     "name": "stdout",
     "output_type": "stream",
     "text": [
      "                            OLS Regression Results                            \n",
      "==============================================================================\n",
      "Dep. Variable:                      y   R-squared:                       0.989\n",
      "Model:                            OLS   Adj. R-squared:                  0.989\n",
      "Method:                 Least Squares   F-statistic:                     4508.\n",
      "Date:                Thu, 16 Jan 2025   Prob (F-statistic):          7.03e-191\n",
      "Time:                        17:04:45   Log-Likelihood:                -591.46\n",
      "No. Observations:                 200   AIC:                             1193.\n",
      "Df Residuals:                     195   BIC:                             1209.\n",
      "Df Model:                           4                                         \n",
      "Covariance Type:            nonrobust                                         \n",
      "==============================================================================\n",
      "                 coef    std err          t      P>|t|      [0.025      0.975]\n",
      "------------------------------------------------------------------------------\n",
      "Intercept     96.9309      2.596     37.341      0.000      91.811     102.050\n",
      "X1             3.7509      0.209     17.924      0.000       3.338       4.164\n",
      "X2            -2.4975      0.171    -14.593      0.000      -2.835      -2.160\n",
      "X3             4.0020      0.171     23.422      0.000       3.665       4.339\n",
      "X4             1.6505      0.067     24.801      0.000       1.519       1.782\n",
      "==============================================================================\n",
      "Omnibus:                        0.961   Durbin-Watson:                   1.849\n",
      "Prob(Omnibus):                  0.618   Jarque-Bera (JB):                0.986\n",
      "Skew:                           0.044   Prob(JB):                        0.611\n",
      "Kurtosis:                       2.668   Cond. No.                         657.\n",
      "==============================================================================\n",
      "\n",
      "Notes:\n",
      "[1] Standard Errors assume that the covariance matrix of the errors is correctly specified.\n"
     ]
    }
   ],
   "source": [
    "model = ols('y~X1+X2+X3+X4',data = data_1).fit()\n",
    "print(model.summary())"
   ]
  },
  {
   "cell_type": "markdown",
   "id": "c46701da-a995-4efb-85cd-9f8d00120638",
   "metadata": {},
   "source": [
    "*All the variables appear to be statistically significant in predicting the sales revenue*"
   ]
  },
  {
   "cell_type": "markdown",
   "id": "0dbf89f4-126f-4356-b967-511bad1858f4",
   "metadata": {},
   "source": [
    "**Checking for VIF**"
   ]
  },
  {
   "cell_type": "code",
   "execution_count": 7,
   "id": "d37e6dda-4125-4b9c-b825-45beca7201e9",
   "metadata": {
    "tags": []
   },
   "outputs": [
    {
     "name": "stdout",
     "output_type": "stream",
     "text": [
      "  Predictor        VIF\n",
      "1        X1  33.959159\n",
      "2        X2  20.244978\n",
      "3        X3  14.482652\n",
      "4        X4   1.029735\n"
     ]
    }
   ],
   "source": [
    "X = data_1[['X1','X2','X3','X4']]\n",
    "y = data_1['y']\n",
    "X_with_const = add_constant(X)\n",
    "\n",
    "vif = pd.DataFrame()\n",
    "vif[\"Predictor\"] = X_with_const.columns\n",
    "vif[\"VIF\"] = [variance_inflation_factor(X_with_const.values, i) for i in range(X_with_const.shape[1])]\n",
    "\n",
    "vif = vif[vif[\"Predictor\"] != 'const']\n",
    "\n",
    "vif = vif.sort_values(by=\"VIF\", ascending=False)\n",
    "\n",
    "print(vif)\n"
   ]
  },
  {
   "cell_type": "markdown",
   "id": "b263e7f5-8027-46c1-b658-c6fffe9ee8c6",
   "metadata": {},
   "source": [
    "*When checking the VIF scores we can see there is a multicollinearity issue with variables X1, X2, X3. That is because if their VIF score is greater than 10 then it shows multicollinearity.*"
   ]
  },
  {
   "cell_type": "markdown",
   "id": "b713a0de-b8bb-4cac-8d84-d10a45c1a01e",
   "metadata": {},
   "source": [
    "## Fitting other type of models"
   ]
  },
  {
   "cell_type": "markdown",
   "id": "5f7dee9f-1b3e-46ba-b662-3647f424aa26",
   "metadata": {},
   "source": [
    "*To deal with multicollinearity we can fit a ridge, lasso, and a PCR model*"
   ]
  },
  {
   "cell_type": "markdown",
   "id": "60716ca0-80fd-48a1-8972-a69629ced33b",
   "metadata": {},
   "source": [
    "**Ridge**"
   ]
  },
  {
   "cell_type": "code",
   "execution_count": 8,
   "id": "7dc87a79-8b2a-4ab8-b5c2-a02e0d28fda8",
   "metadata": {
    "tags": []
   },
   "outputs": [
    {
     "name": "stdout",
     "output_type": "stream",
     "text": [
      "                            OLS Regression Results                            \n",
      "==============================================================================\n",
      "Dep. Variable:                      y   R-squared:                       0.988\n",
      "Model:                            OLS   Adj. R-squared:                  0.988\n",
      "Method:                 Least Squares   F-statistic:                     4181.\n",
      "Date:                Thu, 16 Jan 2025   Prob (F-statistic):          9.92e-188\n",
      "Time:                        17:10:46   Log-Likelihood:                -598.90\n",
      "No. Observations:                 200   AIC:                             1208.\n",
      "Df Residuals:                     195   BIC:                             1224.\n",
      "Df Model:                           4                                         \n",
      "Covariance Type:            nonrobust                                         \n",
      "==============================================================================\n",
      "                 coef    std err          t      P>|t|      [0.025      0.975]\n",
      "------------------------------------------------------------------------------\n",
      "const         98.4882      2.694     36.555      0.000      93.175     103.802\n",
      "X1             3.2725      0.217     15.067      0.000       2.844       3.701\n",
      "X2            -1.8651      0.178    -10.499      0.000      -2.215      -1.515\n",
      "X3             3.8428      0.177     21.669      0.000       3.493       4.193\n",
      "X4             1.6543      0.069     23.950      0.000       1.518       1.791\n",
      "==============================================================================\n",
      "Omnibus:                        2.115   Durbin-Watson:                   1.924\n",
      "Prob(Omnibus):                  0.347   Jarque-Bera (JB):                1.765\n",
      "Skew:                           0.090   Prob(JB):                        0.414\n",
      "Kurtosis:                       2.576   Cond. No.                         657.\n",
      "==============================================================================\n",
      "\n",
      "Notes:\n",
      "[1] Standard Errors assume that the covariance matrix of the errors is correctly specified.\n"
     ]
    }
   ],
   "source": [
    "model = sm.OLS(y, X_with_const)\n",
    "ols_model = model.fit()\n",
    "alpha=np.array([0, 0.5, 0.5, 0.5, 0.5])\n",
    "ridge_model = model.fit_regularized(L1_wt=0, alpha=alpha, start_params=ols_model.params)\n",
    "final = sm.regression.linear_model.OLSResults(model, ridge_model.params, ols_model.normalized_cov_params)\n",
    "print(final.summary())"
   ]
  },
  {
   "cell_type": "markdown",
   "id": "33522782-0b36-4a8a-9520-3bcf6939c263",
   "metadata": {},
   "source": [
    "*The ridge model with alpha values=0.5 has a R^2 score of 98.8% meaning that it explains the variance of the sales revenue very well. Also, we can observe that all variables are statistically significant in predicting sales revenue since p-value smaller than .05. In addition, we can see that variables X3 and X1 have the greatest influence on the sales revenue since they both have the highest magnitude.*"
   ]
  },
  {
   "cell_type": "markdown",
   "id": "6cec3515-7f49-4f85-be39-d76edd814878",
   "metadata": {},
   "source": [
    "**Lasso**"
   ]
  },
  {
   "cell_type": "code",
   "execution_count": 9,
   "id": "2f30f80a-afb8-4382-b773-8e212d1f9d59",
   "metadata": {
    "tags": []
   },
   "outputs": [
    {
     "name": "stdout",
     "output_type": "stream",
     "text": [
      "Best alpha: 1.0\n",
      "Best MSE: 387.8463563631126\n",
      "                            OLS Regression Results                            \n",
      "==============================================================================\n",
      "Dep. Variable:                      y   R-squared:                       0.809\n",
      "Model:                            OLS   Adj. R-squared:                  0.805\n",
      "Method:                 Least Squares   F-statistic:                     206.1\n",
      "Date:                Thu, 16 Jan 2025   Prob (F-statistic):           7.47e-69\n",
      "Time:                        17:12:37   Log-Likelihood:                -879.85\n",
      "No. Observations:                 200   AIC:                             1770.\n",
      "Df Residuals:                     195   BIC:                             1786.\n",
      "Df Model:                           4                                         \n",
      "Covariance Type:            nonrobust                                         \n",
      "==============================================================================\n",
      "                 coef    std err          t      P>|t|      [0.025      0.975]\n",
      "------------------------------------------------------------------------------\n",
      "const        221.1176     10.977     20.143      0.000     199.468     242.767\n",
      "X1             3.6634      0.885      4.140      0.000       1.918       5.409\n",
      "X2            -0.1928      0.724     -0.266      0.790      -1.620       1.235\n",
      "X3             0.6345      0.723      0.878      0.381      -0.790       2.060\n",
      "X4            -1.2547      0.281     -4.458      0.000      -1.810      -0.700\n",
      "==============================================================================\n",
      "Omnibus:                        4.597   Durbin-Watson:                   2.110\n",
      "Prob(Omnibus):                  0.100   Jarque-Bera (JB):                3.980\n",
      "Skew:                           0.260   Prob(JB):                        0.137\n",
      "Kurtosis:                       2.546   Cond. No.                         657.\n",
      "==============================================================================\n",
      "\n",
      "Notes:\n",
      "[1] Standard Errors assume that the covariance matrix of the errors is correctly specified.\n"
     ]
    }
   ],
   "source": [
    "X_const = sm.add_constant(X)\n",
    "\n",
    "alphas = np.linspace(-1, 1.0, 20)\n",
    "\n",
    "best_alpha = None\n",
    "best_mse = float('inf')  # Initialize the best MSE to a large number\n",
    "best_lasso_model = None  # Store the best Lasso model\n",
    "\n",
    "# Loop through each alpha value and fit the Lasso model\n",
    "for alpha_value in alphas:\n",
    "    # Set up the alpha array with 0 for intercept, same alpha for other features\n",
    "    alpha = np.array([0] + [alpha_value] * (X_const.shape[1] - 1))\n",
    "    \n",
    "    # Fit the Lasso model (L1_wt=1 means Lasso)\n",
    "    lasso_model = sm.OLS(y, X_const).fit_regularized(L1_wt=1, alpha=alpha)\n",
    "    \n",
    "    final_lasso = sm.regression.linear_model.OLSResults(sm.OLS(y, X_const), \n",
    "                                                        lasso_model.params, \n",
    "                                                        ols_model.normalized_cov_params)\n",
    "    \n",
    "    # Calculate Mean Squared Error (MSE) as the evaluation metric\n",
    "    predictions = final_lasso.predict(X_const)\n",
    "    mse = mean_squared_error(y, predictions)\n",
    "    \n",
    "    # Track the best model based on the lowest MSE\n",
    "    if mse < best_mse:\n",
    "        best_mse = mse\n",
    "        best_alpha = alpha_value\n",
    "        best_lasso_model = final_lasso\n",
    "\n",
    "# Print the best alpha and the summary of the best model\n",
    "print(f\"Best alpha: {best_alpha}\")\n",
    "print(f\"Best MSE: {best_mse}\")\n",
    "print(best_lasso_model.summary())\n"
   ]
  },
  {
   "cell_type": "markdown",
   "id": "b3699c7d-ee55-41b9-bcfa-d0938dc141c4",
   "metadata": {},
   "source": [
    "**Principle Component Regression**"
   ]
  },
  {
   "cell_type": "code",
   "execution_count": 10,
   "id": "2cf4a53a-65bd-406a-b774-8ec7f0305a7d",
   "metadata": {
    "tags": []
   },
   "outputs": [
    {
     "name": "stdout",
     "output_type": "stream",
     "text": [
      "eigenvalues: [2.94015469 0.99975441 0.06080459 0.01938681]\n",
      "__________________________________________________\n",
      "eigenvectors:\n",
      " [[ 0.58037426  0.57477947  0.5738119   0.05944891]\n",
      " [-0.03604313 -0.06250016 -0.00427166  0.99738477]\n",
      " [-0.1152318  -0.63821894  0.76008238 -0.04090226]\n",
      " [-0.80534976  0.50832949  0.30495317  0.00405662]]\n",
      "__________________________________________________\n",
      "                            OLS Regression Results                            \n",
      "==============================================================================\n",
      "Dep. Variable:                      y   R-squared:                       0.950\n",
      "Model:                            OLS   Adj. R-squared:                  0.949\n",
      "Method:                 Least Squares   F-statistic:                     1861.\n",
      "Date:                Thu, 16 Jan 2025   Prob (F-statistic):          1.22e-128\n",
      "Time:                        17:16:55   Log-Likelihood:                -746.21\n",
      "No. Observations:                 200   AIC:                             1498.\n",
      "Df Residuals:                     197   BIC:                             1508.\n",
      "Df Model:                           2                                         \n",
      "Covariance Type:            nonrobust                                         \n",
      "==============================================================================\n",
      "                 coef    std err          t      P>|t|      [0.025      0.975]\n",
      "------------------------------------------------------------------------------\n",
      "const        378.7211      0.719    526.520      0.000     377.303     380.140\n",
      "x1            25.1868      0.421     59.892      0.000      24.357      26.016\n",
      "x2             8.3573      0.721     11.588      0.000       6.935       9.780\n",
      "==============================================================================\n",
      "Omnibus:                        3.327   Durbin-Watson:                   2.061\n",
      "Prob(Omnibus):                  0.190   Jarque-Bera (JB):                3.088\n",
      "Skew:                          -0.195   Prob(JB):                        0.214\n",
      "Kurtosis:                       3.468   Cond. No.                         1.71\n",
      "==============================================================================\n",
      "\n",
      "Notes:\n",
      "[1] Standard Errors assume that the covariance matrix of the errors is correctly specified.\n"
     ]
    }
   ],
   "source": [
    "# 1. standardize the features X (without intercept)\n",
    "scaler = StandardScaler()\n",
    "X_scaled = scaler.fit_transform(X)\n",
    "\n",
    "# 2. PCA reduction dimensions\n",
    "pca = PCA()\n",
    "X_pca = pca.fit_transform(X_scaled)\n",
    "\n",
    "# 3. compute eignevalues and eigenvectors\n",
    "eigenvalues = pca.explained_variance_\n",
    "eigenvectors = pca.components_\n",
    "\n",
    "print(\"eigenvalues:\", eigenvalues)\n",
    "print('__________________________________________________')\n",
    "print(\"eigenvectors:\\n\", eigenvectors)\n",
    "print('__________________________________________________')\n",
    "\n",
    "# 4. choose the numbers of PC\n",
    "X_pca = X_pca[:, :2]\n",
    "\n",
    "# 5. statsmodels does regression model now \n",
    "model = sm.OLS(y, sm.add_constant(X_pca))\n",
    "results = model.fit()\n",
    "print(results.summary())\n"
   ]
  },
  {
   "cell_type": "code",
   "execution_count": null,
   "id": "c4c4c623-7fcb-474b-aca6-34421203b4ce",
   "metadata": {},
   "outputs": [],
   "source": []
  },
  {
   "cell_type": "code",
   "execution_count": null,
   "id": "de1a9ede-00dc-447a-a0b8-a25c2047735a",
   "metadata": {},
   "outputs": [],
   "source": []
  },
  {
   "cell_type": "markdown",
   "id": "1e0623af-0ebd-49c5-b8c9-b5444228d7e2",
   "metadata": {},
   "source": [
    "## Loading and Exploring Dataset"
   ]
  },
  {
   "cell_type": "code",
   "execution_count": 12,
   "id": "f12f5f24-fe90-459b-8437-03c6975f6dfe",
   "metadata": {
    "tags": []
   },
   "outputs": [
    {
     "data": {
      "text/html": [
       "<div>\n",
       "<style scoped>\n",
       "    .dataframe tbody tr th:only-of-type {\n",
       "        vertical-align: middle;\n",
       "    }\n",
       "\n",
       "    .dataframe tbody tr th {\n",
       "        vertical-align: top;\n",
       "    }\n",
       "\n",
       "    .dataframe thead th {\n",
       "        text-align: right;\n",
       "    }\n",
       "</style>\n",
       "<table border=\"1\" class=\"dataframe\">\n",
       "  <thead>\n",
       "    <tr style=\"text-align: right;\">\n",
       "      <th></th>\n",
       "      <th>x</th>\n",
       "      <th>y</th>\n",
       "    </tr>\n",
       "  </thead>\n",
       "  <tbody>\n",
       "    <tr>\n",
       "      <th>0</th>\n",
       "      <td>0.005522</td>\n",
       "      <td>0.067753</td>\n",
       "    </tr>\n",
       "    <tr>\n",
       "      <th>1</th>\n",
       "      <td>0.020584</td>\n",
       "      <td>0.189849</td>\n",
       "    </tr>\n",
       "    <tr>\n",
       "      <th>2</th>\n",
       "      <td>0.025419</td>\n",
       "      <td>0.280284</td>\n",
       "    </tr>\n",
       "    <tr>\n",
       "      <th>3</th>\n",
       "      <td>0.034389</td>\n",
       "      <td>0.167189</td>\n",
       "    </tr>\n",
       "    <tr>\n",
       "      <th>4</th>\n",
       "      <td>0.045227</td>\n",
       "      <td>0.457573</td>\n",
       "    </tr>\n",
       "  </tbody>\n",
       "</table>\n",
       "</div>"
      ],
      "text/plain": [
       "          x         y\n",
       "0  0.005522  0.067753\n",
       "1  0.020584  0.189849\n",
       "2  0.025419  0.280284\n",
       "3  0.034389  0.167189\n",
       "4  0.045227  0.457573"
      ]
     },
     "execution_count": 12,
     "metadata": {},
     "output_type": "execute_result"
    }
   ],
   "source": [
    "df = pd.read_csv(\"../STAT4360/spline_data.csv\")\n",
    "df.head()"
   ]
  },
  {
   "cell_type": "code",
   "execution_count": 13,
   "id": "c67bda3d-6d8b-420e-8acd-8e75a2d23d6e",
   "metadata": {
    "tags": []
   },
   "outputs": [],
   "source": [
    "x = df['x']\n",
    "y = df['y']"
   ]
  },
  {
   "cell_type": "code",
   "execution_count": 14,
   "id": "85fd2ade-a63f-4d58-acb6-d6503204ca99",
   "metadata": {
    "tags": []
   },
   "outputs": [
    {
     "name": "stdout",
     "output_type": "stream",
     "text": [
      "<class 'pandas.core.frame.DataFrame'>\n",
      "RangeIndex: 100 entries, 0 to 99\n",
      "Data columns (total 2 columns):\n",
      " #   Column  Non-Null Count  Dtype  \n",
      "---  ------  --------------  -----  \n",
      " 0   x       100 non-null    float64\n",
      " 1   y       100 non-null    float64\n",
      "dtypes: float64(2)\n",
      "memory usage: 1.7 KB\n"
     ]
    },
    {
     "data": {
      "text/html": [
       "<div>\n",
       "<style scoped>\n",
       "    .dataframe tbody tr th:only-of-type {\n",
       "        vertical-align: middle;\n",
       "    }\n",
       "\n",
       "    .dataframe tbody tr th {\n",
       "        vertical-align: top;\n",
       "    }\n",
       "\n",
       "    .dataframe thead th {\n",
       "        text-align: right;\n",
       "    }\n",
       "</style>\n",
       "<table border=\"1\" class=\"dataframe\">\n",
       "  <thead>\n",
       "    <tr style=\"text-align: right;\">\n",
       "      <th></th>\n",
       "      <th>x</th>\n",
       "      <th>y</th>\n",
       "    </tr>\n",
       "  </thead>\n",
       "  <tbody>\n",
       "    <tr>\n",
       "      <th>count</th>\n",
       "      <td>100.000000</td>\n",
       "      <td>100.000000</td>\n",
       "    </tr>\n",
       "    <tr>\n",
       "      <th>mean</th>\n",
       "      <td>0.470181</td>\n",
       "      <td>0.439341</td>\n",
       "    </tr>\n",
       "    <tr>\n",
       "      <th>std</th>\n",
       "      <td>0.297489</td>\n",
       "      <td>1.099069</td>\n",
       "    </tr>\n",
       "    <tr>\n",
       "      <th>min</th>\n",
       "      <td>0.005522</td>\n",
       "      <td>-1.167876</td>\n",
       "    </tr>\n",
       "    <tr>\n",
       "      <th>25%</th>\n",
       "      <td>0.193201</td>\n",
       "      <td>-0.550541</td>\n",
       "    </tr>\n",
       "    <tr>\n",
       "      <th>50%</th>\n",
       "      <td>0.464142</td>\n",
       "      <td>0.403987</td>\n",
       "    </tr>\n",
       "    <tr>\n",
       "      <th>75%</th>\n",
       "      <td>0.730203</td>\n",
       "      <td>1.516609</td>\n",
       "    </tr>\n",
       "    <tr>\n",
       "      <th>max</th>\n",
       "      <td>0.986887</td>\n",
       "      <td>2.224635</td>\n",
       "    </tr>\n",
       "  </tbody>\n",
       "</table>\n",
       "</div>"
      ],
      "text/plain": [
       "                x           y\n",
       "count  100.000000  100.000000\n",
       "mean     0.470181    0.439341\n",
       "std      0.297489    1.099069\n",
       "min      0.005522   -1.167876\n",
       "25%      0.193201   -0.550541\n",
       "50%      0.464142    0.403987\n",
       "75%      0.730203    1.516609\n",
       "max      0.986887    2.224635"
      ]
     },
     "execution_count": 14,
     "metadata": {},
     "output_type": "execute_result"
    }
   ],
   "source": [
    "df.info()\n",
    "df.describe()"
   ]
  },
  {
   "cell_type": "markdown",
   "id": "d4a20b4b-fd0c-4960-9bac-85570dcb163b",
   "metadata": {},
   "source": [
    "## Fitting model"
   ]
  },
  {
   "cell_type": "code",
   "execution_count": 15,
   "id": "3abb1e39-5778-4af3-ab05-6d1fb1a1d505",
   "metadata": {
    "tags": []
   },
   "outputs": [
    {
     "name": "stdout",
     "output_type": "stream",
     "text": [
      "                            OLS Regression Results                            \n",
      "==============================================================================\n",
      "Dep. Variable:                      y   R-squared:                       0.539\n",
      "Model:                            OLS   Adj. R-squared:                  0.534\n",
      "Method:                 Least Squares   F-statistic:                     114.6\n",
      "Date:                Thu, 16 Jan 2025   Prob (F-statistic):           3.56e-18\n",
      "Time:                        17:21:48   Log-Likelihood:                -112.11\n",
      "No. Observations:                 100   AIC:                             228.2\n",
      "Df Residuals:                      98   BIC:                             233.4\n",
      "Df Model:                           1                                         \n",
      "Covariance Type:            nonrobust                                         \n",
      "==============================================================================\n",
      "                 coef    std err          t      P>|t|      [0.025      0.975]\n",
      "------------------------------------------------------------------------------\n",
      "Intercept      1.7148      0.141     12.182      0.000       1.435       1.994\n",
      "x             -2.7127      0.253    -10.707      0.000      -3.215      -2.210\n",
      "==============================================================================\n",
      "Omnibus:                       14.643   Durbin-Watson:                   0.046\n",
      "Prob(Omnibus):                  0.001   Jarque-Bera (JB):                4.262\n",
      "Skew:                           0.005   Prob(JB):                        0.119\n",
      "Kurtosis:                       1.989   Cond. No.                         4.18\n",
      "==============================================================================\n",
      "\n",
      "Notes:\n",
      "[1] Standard Errors assume that the covariance matrix of the errors is correctly specified.\n"
     ]
    }
   ],
   "source": [
    "ols_model = ols('y~x',data=df).fit()\n",
    "print(ols_model.summary())"
   ]
  },
  {
   "cell_type": "code",
   "execution_count": 16,
   "id": "645c37be-0586-4eed-9f36-76ff32fd0e10",
   "metadata": {
    "tags": []
   },
   "outputs": [],
   "source": [
    "fitted_values = ols_model.fittedvalues\n",
    "\n",
    "residuals = ols_model.resid"
   ]
  },
  {
   "cell_type": "markdown",
   "id": "e968c616-4e8a-4088-a700-e369d59723c0",
   "metadata": {},
   "source": [
    "## Exploratory Data Analysis"
   ]
  },
  {
   "cell_type": "code",
   "execution_count": 17,
   "id": "f9e118c6-eeac-4293-ba5c-df120546314a",
   "metadata": {
    "tags": []
   },
   "outputs": [
    {
     "data": {
      "image/png": "[encoded data removed]",
      "text/plain": [
       "<Figure size 640x480 with 1 Axes>"
      ]
     },
     "metadata": {},
     "output_type": "display_data"
    }
   ],
   "source": [
    "# Plot: Residuals vs Fitted values\n",
    "plt.scatter(fitted_values, residuals, color='blue')\n",
    "plt.axhline(0, color='red', linestyle='--')  \n",
    "plt.title(\"Residuals vs Fitted Values\")\n",
    "plt.xlabel('Fitted Values')\n",
    "plt.ylabel('Residuals')\n",
    "plt.show()\n"
   ]
  },
  {
   "cell_type": "code",
   "execution_count": 18,
   "id": "d734a142-f32a-4f12-93f6-75215e2bac03",
   "metadata": {
    "tags": []
   },
   "outputs": [
    {
     "data": {
      "image/png": "[encoded data removed]",
      "text/plain": [
       "<Figure size 640x480 with 1 Axes>"
      ]
     },
     "metadata": {},
     "output_type": "display_data"
    }
   ],
   "source": [
    "plt.scatter(x,y,color='blue')\n",
    "plt.xlabel('x')\n",
    "plt.ylabel('y')\n",
    "plt.title('Scatter Plot for x and y')\n",
    "plt.grid(True)\n",
    "plt.show()"
   ]
  },
  {
   "cell_type": "code",
   "execution_count": 19,
   "id": "ea49e860-93ed-4caa-8fb0-f70210253f66",
   "metadata": {
    "tags": []
   },
   "outputs": [
    {
     "data": {
      "image/png": "[encoded data removed]",
      "text/plain": [
       "<Figure size 640x480 with 1 Axes>"
      ]
     },
     "metadata": {},
     "output_type": "display_data"
    }
   ],
   "source": [
    "plt.scatter(x,y,color='blue')\n",
    "plt.axvline(x=.3, color='red', linestyle='--', label='x=.3')\n",
    "plt.axvline(x=.7, color='green', linestyle='--', label='x=.7')\n",
    "plt.xlabel('x')\n",
    "plt.ylabel('y')\n",
    "plt.title('Scatter Plot for x and y')\n",
    "plt.grid(True)\n",
    "plt.show()"
   ]
  },
  {
   "cell_type": "markdown",
   "id": "05dd9262-d993-41d5-9a3f-11630a3103d6",
   "metadata": {},
   "source": [
    "*A common way to know where and how many knots you will set up is by looking at the predictor and target variables. The area where the relationship between the predictor and target variable changes is usually where a knot should be. We can see that for this data the knots would be around .3 and .7.*"
   ]
  },
  {
   "cell_type": "markdown",
   "id": "da98905b-6064-4a97-b079-90260bc3ef2c",
   "metadata": {},
   "source": [
    "## Running a Cubic Model with the two knots"
   ]
  },
  {
   "cell_type": "code",
   "execution_count": 20,
   "id": "77e69351-cc33-469d-977b-2c46a27b5c73",
   "metadata": {
    "tags": []
   },
   "outputs": [
    {
     "data": {
      "text/html": [
       "<div>\n",
       "<style scoped>\n",
       "    .dataframe tbody tr th:only-of-type {\n",
       "        vertical-align: middle;\n",
       "    }\n",
       "\n",
       "    .dataframe tbody tr th {\n",
       "        vertical-align: top;\n",
       "    }\n",
       "\n",
       "    .dataframe thead th {\n",
       "        text-align: right;\n",
       "    }\n",
       "</style>\n",
       "<table border=\"1\" class=\"dataframe\">\n",
       "  <thead>\n",
       "    <tr style=\"text-align: right;\">\n",
       "      <th></th>\n",
       "      <th>x</th>\n",
       "      <th>y</th>\n",
       "      <th>x^2</th>\n",
       "      <th>x^3</th>\n",
       "      <th>basis1</th>\n",
       "      <th>basis2</th>\n",
       "    </tr>\n",
       "  </thead>\n",
       "  <tbody>\n",
       "    <tr>\n",
       "      <th>0</th>\n",
       "      <td>0.005522</td>\n",
       "      <td>0.067753</td>\n",
       "      <td>0.000030</td>\n",
       "      <td>1.683902e-07</td>\n",
       "      <td>0.0</td>\n",
       "      <td>0.0</td>\n",
       "    </tr>\n",
       "    <tr>\n",
       "      <th>1</th>\n",
       "      <td>0.020584</td>\n",
       "      <td>0.189849</td>\n",
       "      <td>0.000424</td>\n",
       "      <td>8.722091e-06</td>\n",
       "      <td>0.0</td>\n",
       "      <td>0.0</td>\n",
       "    </tr>\n",
       "    <tr>\n",
       "      <th>2</th>\n",
       "      <td>0.025419</td>\n",
       "      <td>0.280284</td>\n",
       "      <td>0.000646</td>\n",
       "      <td>1.642411e-05</td>\n",
       "      <td>0.0</td>\n",
       "      <td>0.0</td>\n",
       "    </tr>\n",
       "    <tr>\n",
       "      <th>3</th>\n",
       "      <td>0.034389</td>\n",
       "      <td>0.167189</td>\n",
       "      <td>0.001183</td>\n",
       "      <td>4.066685e-05</td>\n",
       "      <td>0.0</td>\n",
       "      <td>0.0</td>\n",
       "    </tr>\n",
       "    <tr>\n",
       "      <th>4</th>\n",
       "      <td>0.045227</td>\n",
       "      <td>0.457573</td>\n",
       "      <td>0.002046</td>\n",
       "      <td>9.251277e-05</td>\n",
       "      <td>0.0</td>\n",
       "      <td>0.0</td>\n",
       "    </tr>\n",
       "  </tbody>\n",
       "</table>\n",
       "</div>"
      ],
      "text/plain": [
       "          x         y       x^2           x^3  basis1  basis2\n",
       "0  0.005522  0.067753  0.000030  1.683902e-07     0.0     0.0\n",
       "1  0.020584  0.189849  0.000424  8.722091e-06     0.0     0.0\n",
       "2  0.025419  0.280284  0.000646  1.642411e-05     0.0     0.0\n",
       "3  0.034389  0.167189  0.001183  4.066685e-05     0.0     0.0\n",
       "4  0.045227  0.457573  0.002046  9.251277e-05     0.0     0.0"
      ]
     },
     "execution_count": 20,
     "metadata": {},
     "output_type": "execute_result"
    }
   ],
   "source": [
    "df['x^2']=df['x']**2\n",
    "df['x^3']=df['x']**3\n",
    "\n",
    "def cubic_spline(x,knot):\n",
    "    return np.where(x > knot, (x-knot)**3,0)\n",
    "\n",
    "df['basis1'] = cubic_spline(x,.3)\n",
    "df['basis2'] = cubic_spline(x,.7)\n",
    "\n",
    "df.head()"
   ]
  },
  {
   "cell_type": "code",
   "execution_count": 21,
   "id": "107f08e2-0f4e-456f-bb02-49dc255d101f",
   "metadata": {
    "tags": []
   },
   "outputs": [
    {
     "name": "stdout",
     "output_type": "stream",
     "text": [
      "                            OLS Regression Results                            \n",
      "==============================================================================\n",
      "Dep. Variable:                      y   R-squared:                       0.993\n",
      "Model:                            OLS   Adj. R-squared:                  0.993\n",
      "Method:                 Least Squares   F-statistic:                     2781.\n",
      "Date:                Thu, 16 Jan 2025   Prob (F-statistic):          1.86e-100\n",
      "Time:                        17:24:29   Log-Likelihood:                 99.330\n",
      "No. Observations:                 100   AIC:                            -186.7\n",
      "Df Residuals:                      94   BIC:                            -171.0\n",
      "Df Model:                           5                                         \n",
      "Covariance Type:            nonrobust                                         \n",
      "==============================================================================\n",
      "                 coef    std err          t      P>|t|      [0.025      0.975]\n",
      "------------------------------------------------------------------------------\n",
      "const          0.0019      0.053      0.036      0.972      -0.104       0.107\n",
      "x             10.1757      0.959     10.608      0.000       8.271      12.080\n",
      "x^2            3.4926      4.562      0.766      0.446      -5.566      12.551\n",
      "x^3          -50.2195      6.203     -8.096      0.000     -62.535     -37.904\n",
      "basis1       115.2962      7.849     14.689      0.000      99.711     130.881\n",
      "basis2      -111.8899      8.558    -13.074      0.000    -128.882     -94.897\n",
      "==============================================================================\n",
      "Omnibus:                        0.501   Durbin-Watson:                   2.284\n",
      "Prob(Omnibus):                  0.778   Jarque-Bera (JB):                0.554\n",
      "Skew:                           0.163   Prob(JB):                        0.758\n",
      "Kurtosis:                       2.837   Cond. No.                     1.64e+03\n",
      "==============================================================================\n",
      "\n",
      "Notes:\n",
      "[1] Standard Errors assume that the covariance matrix of the errors is correctly specified.\n",
      "[2] The condition number is large, 1.64e+03. This might indicate that there are\n",
      "strong multicollinearity or other numerical problems.\n"
     ]
    }
   ],
   "source": [
    "x_cubic_spline = df[['x','x^2','x^3','basis1','basis2']]\n",
    "x_cubic_spline = sm.add_constant (x_cubic_spline)\n",
    "\n",
    "model = sm.OLS(y,x_cubic_spline).fit()\n",
    "\n",
    "print(model.summary())"
   ]
  },
  {
   "cell_type": "code",
   "execution_count": 22,
   "id": "2a3c3800-fd6c-4d37-af35-61333921c93c",
   "metadata": {
    "tags": []
   },
   "outputs": [
    {
     "data": {
      "image/png": "[encoded data removed]",
      "text/plain": [
       "<Figure size 640x480 with 1 Axes>"
      ]
     },
     "metadata": {},
     "output_type": "display_data"
    }
   ],
   "source": [
    "fitted_values = model.fittedvalues\n",
    "\n",
    "residuals = model.resid\n",
    "\n",
    "plt.scatter(df['x'], df['y'], label=\"Observed\", color=\"blue\")\n",
    "plt.plot(df['x'], fitted_values, label=\"Fitted\", color=\"red\")\n",
    "plt.title(\"Observed vs Fitted\")\n",
    "plt.xlabel('x')\n",
    "plt.ylabel('y')\n",
    "plt.legend()\n",
    "plt.show()\n"
   ]
  },
  {
   "cell_type": "markdown",
   "id": "10af0895-cdc0-4c6d-af71-68a9098868ac",
   "metadata": {},
   "source": [
    "## Residuals of the cubic spline model"
   ]
  },
  {
   "cell_type": "code",
   "execution_count": 23,
   "id": "da718d06-01f8-481f-a827-70fb84bcaaa2",
   "metadata": {
    "tags": []
   },
   "outputs": [
    {
     "data": {
      "image/png": "[encoded data removed]",
      "text/plain": [
       "<Figure size 640x480 with 1 Axes>"
      ]
     },
     "metadata": {},
     "output_type": "display_data"
    }
   ],
   "source": [
    "plt.scatter(df['x'], residuals, color='blue')\n",
    "plt.axhline(0, color='red', linestyle='--')  # Zero line for reference\n",
    "plt.title(\"Residuals of the Model\")\n",
    "plt.xlabel('x')\n",
    "plt.ylabel('Residuals')\n",
    "\n",
    "plt.tight_layout()\n",
    "plt.show()\n"
   ]
  },
  {
   "cell_type": "markdown",
   "id": "f61942af-3e2d-493a-9513-19b2da4f5370",
   "metadata": {},
   "source": [
    "*We can see that the residuals now act normal and have constant variance*"
   ]
  },
  {
   "cell_type": "code",
   "execution_count": null,
   "id": "ff28a538-2207-4bdb-a819-d4c36d742f77",
   "metadata": {},
   "outputs": [],
   "source": []
  }
 ],
 "metadata": {
  "kernelspec": {
   "display_name": "Python 3 (ipykernel)",
   "language": "python",
   "name": "python3"
  },
  "language_info": {
   "codemirror_mode": {
    "name": "ipython",
    "version": 3
   },
   "file_extension": ".py",
   "mimetype": "text/x-python",
   "name": "python",
   "nbconvert_exporter": "python",
   "pygments_lexer": "ipython3",
   "version": "3.11.5"
  }
 },
 "nbformat": 4,
 "nbformat_minor": 5
}
